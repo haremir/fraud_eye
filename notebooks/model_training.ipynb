{
 "cells": [
  {
   "cell_type": "markdown",
   "id": "b7b3c329",
   "metadata": {},
   "source": [
    "## Kredi Kartı Sahtekarlık Tespiti - Model Eğitimi\n",
    "### Bu notebook, kredi kartı sahtekarlık tespiti için çeşitli modellerin eğitilmesi sürecini içermektedir."
   ]
  },
  {
   "cell_type": "code",
   "execution_count": 1,
   "id": "6dfb6ba3",
   "metadata": {},
   "outputs": [],
   "source": [
    "import os\n",
    "import pickle\n",
    "import numpy as np\n",
    "import pandas as pd\n",
    "from sklearn.metrics import (\n",
    "    accuracy_score, precision_score, recall_score, f1_score,\n",
    "    confusion_matrix, classification_report, roc_auc_score\n",
    ")\n",
    "import matplotlib.pyplot as plt\n",
    "import seaborn as sns\n",
    "\n",
    "# Proje modüllerini import et\n",
    "import sys\n",
    "sys.path.append('..')\n",
    "from src.utils.logger import setup_logger\n",
    "from src.constants import TARGET, MODELS_DIR, RANDOM_STATE\n",
    "from src.models.xgboost import train_xgboost\n",
    "from src.models.logistic_regression import train_logistic_regression\n",
    "from src.preprocessing.pipeline import FraudPreprocessor\n",
    "from src.config import XGBOOST_PARAMS, LOGISTIC_REGRESSION_PARAMS"
   ]
  },
  {
   "cell_type": "code",
   "execution_count": 2,
   "id": "660738a9",
   "metadata": {},
   "outputs": [
    {
     "name": "stdout",
     "output_type": "stream",
     "text": [
      "Eğitim seti boyutu: (68235, 41)\n",
      "Test seti boyutu: (56962, 41)\n"
     ]
    }
   ],
   "source": [
    "logger = setup_logger(\"model_training\")\n",
    "\n",
    "# Verileri yükle\n",
    "processed_dir = '../data/processed/'\n",
    "balanced_train = pd.read_csv(f'{processed_dir}balanced_train.csv')\n",
    "processed_test = pd.read_csv(f'{processed_dir}processed_test.csv')\n",
    "\n",
    "print(f\"Eğitim seti boyutu: {balanced_train.shape}\")\n",
    "print(f\"Test seti boyutu: {processed_test.shape}\")"
   ]
  },
  {
   "cell_type": "code",
   "execution_count": 3,
   "id": "014aab3d",
   "metadata": {},
   "outputs": [
    {
     "name": "stderr",
     "output_type": "stream",
     "text": [
      "2025-06-02 22:45:49,589 | INFO | pipeline.py:110 | Splitting features and target\n",
      "2025-06-02 22:45:49,597 | INFO | pipeline.py:110 | Splitting features and target\n",
      "2025-06-02 22:45:49,603 | INFO | 2841981692.py:7 | Veriler başarıyla yüklendi ve ön işlendi\n"
     ]
    }
   ],
   "source": [
    "with open('../models/preprocessing_pipeline.pkl', 'rb') as f:\n",
    "    preprocessor = pickle.load(f)\n",
    "\n",
    "X_train, y_train = preprocessor.get_features_and_target(balanced_train)\n",
    "X_test, y_test = preprocessor.get_features_and_target(processed_test)\n",
    "\n",
    "logger.info(\"Veriler başarıyla yüklendi ve ön işlendi\")"
   ]
  },
  {
   "cell_type": "code",
   "execution_count": 4,
   "id": "2347cc3d",
   "metadata": {},
   "outputs": [
    {
     "name": "stderr",
     "output_type": "stream",
     "text": [
      "2025-06-02 22:45:49,610 | INFO | 317311089.py:1 | XGBoost model eğitimi başlıyor...\n",
      "2025-06-02 22:45:49,611 | INFO | xgboost.py:32 | Initialized xgboost model\n",
      "2025-06-02 22:45:49,611 | INFO | xgboost.py:47 | Training XGBoost model with 68235 samples\n",
      "2025-06-02 22:45:53,408 | INFO | xgboost.py:58 | XGBoost model training completed\n",
      "2025-06-02 22:45:53,560 | INFO | 317311089.py:8 | XGBoost eğitimi tamamlandı\n"
     ]
    }
   ],
   "source": [
    "logger.info(\"XGBoost model eğitimi başlıyor...\")\n",
    "xgb_model = train_xgboost(X_train, y_train, XGBOOST_PARAMS)\n",
    "\n",
    "# Test seti tahminleri\n",
    "xgb_probs = xgb_model.predict(X_test)\n",
    "xgb_preds = (xgb_probs >= 0.5).astype(int)\n",
    "\n",
    "logger.info(\"XGBoost eğitimi tamamlandı\")"
   ]
  },
  {
   "cell_type": "code",
   "execution_count": 5,
   "id": "22537699",
   "metadata": {},
   "outputs": [
    {
     "name": "stderr",
     "output_type": "stream",
     "text": [
      "2025-06-02 22:45:53,567 | INFO | 1604418239.py:1 | Logistic Regression model eğitimi başlıyor...\n",
      "2025-06-02 22:45:53,568 | INFO | logistic_regression.py:34 | Initialized logistic_regression model\n",
      "2025-06-02 22:45:53,569 | INFO | logistic_regression.py:49 | Training Logistic Regression model with 68235 samples\n",
      "2025-06-02 22:45:54,246 | INFO | logistic_regression.py:60 | Logistic Regression model training completed\n",
      "2025-06-02 22:45:54,261 | INFO | 1604418239.py:8 | Logistic Regression eğitimi tamamlandı\n"
     ]
    }
   ],
   "source": [
    "logger.info(\"Logistic Regression model eğitimi başlıyor...\")\n",
    "lr_model = train_logistic_regression(X_train, y_train, LOGISTIC_REGRESSION_PARAMS)\n",
    "\n",
    "# Test seti tahminleri\n",
    "lr_probs = lr_model.predict_proba(X_test)[:, 1]\n",
    "lr_preds = (lr_probs >= 0.5).astype(int)\n",
    "\n",
    "logger.info(\"Logistic Regression eğitimi tamamlandı\")"
   ]
  },
  {
   "cell_type": "code",
   "execution_count": 6,
   "id": "0462c6f5",
   "metadata": {},
   "outputs": [
    {
     "name": "stderr",
     "output_type": "stream",
     "text": [
      "2025-06-02 22:45:54,271 | INFO | 4249473250.py:8 | xgboost_model kaydedildi: c:\\Users\\PC\\Desktop\\fraud_eye\\notebooks\\..\\models\\xgboost_model.pkl\n",
      "2025-06-02 22:45:54,273 | INFO | 4249473250.py:8 | logistic_regression_model kaydedildi: c:\\Users\\PC\\Desktop\\fraud_eye\\notebooks\\..\\models\\logistic_regression_model.pkl\n",
      "2025-06-02 22:45:54,285 | INFO | 4249473250.py:16 | Test verileri başarıyla kaydedildi\n"
     ]
    }
   ],
   "source": [
    "# Hücre 6: Modelleri ve Verileri Kaydetme (DÜZELTİLMİŞ)\n",
    "\n",
    "import joblib  # pickle'den daha iyi\n",
    "\n",
    "def save_model(model, model_name):\n",
    "    path = os.path.join(MODELS_DIR, f'{model_name}.pkl')\n",
    "    joblib.dump(model, path)  # pickle yerine joblib\n",
    "    logger.info(f\"{model_name} kaydedildi: {path}\")\n",
    "\n",
    "save_model(xgb_model, 'xgboost_model')\n",
    "save_model(lr_model, 'logistic_regression_model')\n",
    "\n",
    "# TEST VERİLERİNİ DOĞRU ŞEKİLDE KAYDET (DataFrame olarak)\n",
    "joblib.dump(X_test, os.path.join(MODELS_DIR, 'X_test.pkl'))  # Özellik isimleri korunur\n",
    "joblib.dump(y_test, os.path.join(MODELS_DIR, 'y_test.pkl'))\n",
    "logger.info(\"Test verileri başarıyla kaydedildi\")"
   ]
  }
 ],
 "metadata": {
  "kernelspec": {
   "display_name": "Python 3",
   "language": "python",
   "name": "python3"
  },
  "language_info": {
   "codemirror_mode": {
    "name": "ipython",
    "version": 3
   },
   "file_extension": ".py",
   "mimetype": "text/x-python",
   "name": "python",
   "nbconvert_exporter": "python",
   "pygments_lexer": "ipython3",
   "version": "3.13.1"
  }
 },
 "nbformat": 4,
 "nbformat_minor": 5
}
